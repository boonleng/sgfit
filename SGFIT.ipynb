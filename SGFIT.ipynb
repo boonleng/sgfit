{
 "cells": [
  {
   "cell_type": "code",
   "execution_count": null,
   "metadata": {
    "collapsed": true
   },
   "outputs": [],
   "source": [
    "%matplotlib inline"
   ]
  },
  {
   "cell_type": "code",
   "execution_count": null,
   "metadata": {
    "collapsed": true
   },
   "outputs": [],
   "source": [
    "import matplotlib\n",
    "import numpy as np"
   ]
  },
  {
   "cell_type": "code",
   "execution_count": null,
   "metadata": {
    "collapsed": true
   },
   "outputs": [],
   "source": [
    "matplotlib.rcParams['font.family'] = 'serif'\n",
    "matplotlib.rcParams['font.serif'] = ['Arial']\n",
    "matplotlib.rcParams['font.sans-serif'] = ['System Font', 'Verdana', 'Arial']\n",
    "matplotlib.rcParams['figure.figsize'] = (8, 4)   # Change the size of plots\n",
    "matplotlib.rcParams['figure.dpi'] = 108"
   ]
  },
  {
   "cell_type": "code",
   "execution_count": null,
   "metadata": {
    "collapsed": true
   },
   "outputs": [],
   "source": [
    "def sgfit(x, y, va=None):\n",
    "    if va is None:\n",
    "        # Normal Gaussian fitting\n",
    "        sum_x = np.sum(x)\n",
    "        sum_x2 = np.sum(x ** 2)\n",
    "        sum_x3 = np.sum(x ** 3)\n",
    "        sum_x4 = np.sum(x ** 4)\n",
    "        M = np.matrix([[len(x), sum_x, sum_x2], [sum_x, sum_x2, sum_x3], [sum_x2, sum_x3, sum_x4]])\n",
    "        B = np.matrix([[np.sum(np.log(y))], [np.sum(np.multiply(x, np.log(y)))], [np.sum(np.multiply(x ** 2, np.log(y)))]])\n",
    "        d = np.linalg.solve(M, B)\n",
    "        a = d.item(0)\n",
    "        b = d.item(1)\n",
    "        c = d.item(2)\n",
    "\n",
    "        A = np.exp(a - b ** 2 / (4 * c))\n",
    "        mu = -b / (2 * c)\n",
    "        if c > 0:\n",
    "            # Failed\n",
    "            sig = 1.0e-7\n",
    "        else:\n",
    "            sig = np.sqrt(-1 / (2 * c))\n",
    "    else:\n",
    "        # Normalize the x-values to [-pi, pi]\n",
    "        omega = x / va * np.pi\n",
    "        \n",
    "        # Complex-plane representation\n",
    "        c = np.multiply([max(0, x) for x in y], np.exp(1j * omega))\n",
    "        \n",
    "        # Angle of the sum of the vectors\n",
    "        mu = np.angle(np.sum(c))\n",
    "        \n",
    "        # Shift the x-axis\n",
    "        d = c * np.exp(-1j * mu)\n",
    "        \n",
    "        # New x-axis\n",
    "        x = np.angle(d) / np.pi * va;\n",
    "        \n",
    "        sum_x2 = np.sum(np.abs(x) ** 2)\n",
    "        sum_x4 = np.sum(np.abs(x) ** 4)\n",
    "        a = len(x); b = c = sum_x2; d = sum_x4\n",
    "        M = 1.0 / (a * d - b * c) * np.array([[d, -b], [-c, a]])\n",
    "        B = np.array([np.sum(np.log(y)), np.sum(np.multiply(x ** 2, np.log(y)))])\n",
    "        d = np.matmul(M, B)\n",
    "\n",
    "        A = np.exp(d[0])\n",
    "        mu = mu / np.pi * va\n",
    "        sig = np.sqrt(-1 / (2 * d[1]))\n",
    "    return A, sig, mu"
   ]
  },
  {
   "cell_type": "code",
   "execution_count": null,
   "metadata": {
    "collapsed": true
   },
   "outputs": [],
   "source": [
    "def spec(x, va, A, mu, sig, N):\n",
    "    y = (A * np.exp(-(x - mu) ** 2 / (2 * sig ** 2))\n",
    "    + A * np.exp(-(x - mu + 2 * va) ** 2 / (2 * sig ** 2))\n",
    "    + A * np.exp(-(x - mu - 2 * va) ** 2 / (2 * sig ** 2))\n",
    "    + 0.5 * N)\n",
    "    return y"
   ]
  },
  {
   "cell_type": "code",
   "execution_count": null,
   "metadata": {
    "collapsed": true
   },
   "outputs": [],
   "source": [
    "N = 60\n",
    "va = 15\n",
    "x = np.arange(0, N) / N * 2 * va - va\n",
    "\n",
    "A = 0.5\n",
    "mu = 7\n",
    "sig = 3\n",
    "\n",
    "An = 1.0e-1 * A\n",
    "# An = 0\n",
    "\n",
    "y = spec(x, va, A, mu, sig, An)\n",
    "\n",
    "n = An * (np.random.rand(N) - 0.5)\n",
    "# n = 0\n",
    "\n",
    "# Store a copy of the original\n",
    "yo = y\n",
    "\n",
    "# Add noise\n",
    "y = y + n\n",
    "\n",
    "# Some threshold to select what data samples to use\n",
    "th = 0.5 * np.sqrt(np.mean(y ** 2))\n",
    "\n",
    "# Mask of good samples\n",
    "mask = y > th\n",
    "\n",
    "# Say, we can offset the spectrum because we have a good noise estimate\n",
    "y = y - 0.5 * An\n",
    "y = np.multiply((1.1 * np.random.rand(N) + 0.5), y)"
   ]
  },
  {
   "cell_type": "code",
   "execution_count": null,
   "metadata": {
    "collapsed": true
   },
   "outputs": [],
   "source": [
    "A1, sig1, mu1 = sgfit(x[mask], y[mask])\n",
    "y1s = spec(x, va, A1, mu1, sig1, An)"
   ]
  },
  {
   "cell_type": "code",
   "execution_count": null,
   "metadata": {
    "collapsed": true
   },
   "outputs": [],
   "source": [
    "A2, sig2, mu2 = sgfit(x[mask], y[mask], va)\n",
    "y2s = spec(x, va, A2, mu2, sig2, An)"
   ]
  },
  {
   "cell_type": "code",
   "execution_count": null,
   "metadata": {},
   "outputs": [],
   "source": [
    "highlight = [0.85, 0.96, 0]\n",
    "\n",
    "tstr = 'mu = {0:.4f}   sig = {1:.4f}   A = {2:.4f} (ground truth)'.format(mu, sig, A)\n",
    "m1 = 'mu = {0:.4f}   sig = {1:.4f}   A = {2:.4f} (conventional)'.format(mu1, sig1, A1)\n",
    "m2 = 'mu = {0:.4f}   sig = {1:.4f}   A = {2:.4f} (SGFIT)'.format(mu2, sig2, A2)\n",
    "\n",
    "fig = matplotlib.pyplot.figure()\n",
    "fig.suptitle('Conventional Gaussing Fitting vs SGFIT', fontweight='bold')\n",
    "if mask[0]:\n",
    "    e = list(mask).index(False)\n",
    "    matplotlib.pyplot.plot(x[0:e], y[0:e], color=highlight, linewidth=5)\n",
    "    e = N - list(mask[::-1]).index(False)\n",
    "    matplotlib.pyplot.plot(x[e:], y[e:], color=highlight, linewidth=5)\n",
    "else:\n",
    "    matplotlib.pyplot.plot(x[mask], y[mask], color=highlight, linewidth=5)\n",
    "h1, = matplotlib.pyplot.plot(x[mask], y[mask], '.', color=highlight, markersize=20)\n",
    "h2, = matplotlib.pyplot.plot(x, y, '.', MarkerSize=10, color=[0.85, 0.2, 0])\n",
    "h3, = matplotlib.pyplot.plot(x, yo, color=[0.9, 0.6, 0])\n",
    "h4, = matplotlib.pyplot.plot(x, y1s, '--', color=[0.7, 0.2, 0.8])\n",
    "h5, = matplotlib.pyplot.plot(x, y2s, '-.', color=[0.4, 0.8, 0.0])\n",
    "matplotlib.pyplot.grid()\n",
    "matplotlib.pyplot.ylim((0.0, 2.0 * A))\n",
    "matplotlib.pyplot.xlabel('Velocity (m/s)')\n",
    "matplotlib.pyplot.ylabel('Amplitude')\n",
    "matplotlib.pyplot.legend([h1, h2, h3, h4, h5], ['Used Samples', 'Original Dataset', tstr, m1, m2])\n"
   ]
  },
  {
   "cell_type": "code",
   "execution_count": null,
   "metadata": {
    "collapsed": true
   },
   "outputs": [],
   "source": []
  }
 ],
 "metadata": {
  "kernelspec": {
   "display_name": "Python 3",
   "language": "python",
   "name": "python3"
  },
  "language_info": {
   "codemirror_mode": {
    "name": "ipython",
    "version": 3
   },
   "file_extension": ".py",
   "mimetype": "text/x-python",
   "name": "python",
   "nbconvert_exporter": "python",
   "pygments_lexer": "ipython3",
   "version": "3.6.4"
  }
 },
 "nbformat": 4,
 "nbformat_minor": 2
}
